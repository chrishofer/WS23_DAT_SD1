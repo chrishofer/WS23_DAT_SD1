{
 "cells": [
  {
   "cell_type": "markdown",
   "metadata": {},
   "source": [
    "# Listen Teil 2 und noch einige andere Kleinigkeiten\n",
    "\n",
    "Aus SEM bekannt - Wir können unsere Importe auch einen anderen Namen (alias) geben:\n",
    "\n",
    "```python\n",
    "from math import sqrt as s\n",
    "```"
   ]
  },
  {
   "cell_type": "code",
   "execution_count": 1,
   "metadata": {
    "tags": []
   },
   "outputs": [
    {
     "name": "stdout",
     "output_type": "stream",
     "text": [
      "7.0\n"
     ]
    }
   ],
   "source": [
    "from math import sqrt as s\n",
    "\n",
    "\n",
    "# funktion auch mit dem namen s aufrufen\n",
    "print(s(49))\n",
    "\n",
    "\n",
    "\n"
   ]
  },
  {
   "cell_type": "code",
   "execution_count": 3,
   "metadata": {
    "tags": []
   },
   "outputs": [
    {
     "data": {
      "text/plain": [
       "6.0"
      ]
     },
     "execution_count": 3,
     "metadata": {},
     "output_type": "execute_result"
    }
   ],
   "source": [
    "import math\n",
    "\n",
    "math.sqrt(36)\n",
    "\n",
    "from math import sqrt\n",
    "\n",
    "sqrt(36)"
   ]
  },
  {
   "cell_type": "markdown",
   "metadata": {},
   "source": [
    "Und es gibt noch ein paar weitere Convenience Details, die wir noch nicht kennengelernt haben:"
   ]
  },
  {
   "cell_type": "code",
   "execution_count": 3,
   "metadata": {},
   "outputs": [],
   "source": [
    "# hier oder in interaktiver shell können wir einfach eine kurz hilfe aufrufen\n",
    "\n",
    "import math\n",
    "\n",
    "#math?\n",
    "\n",
    "\n",
    "# einen leeren stringen können wir auch erzeugen\n",
    "x = \"\"\n",
    "y = str() # wie bei der leeren liste das list() erzeugt es unst einen leeren string\n",
    "\n",
    "y?\n"
   ]
  },
  {
   "cell_type": "markdown",
   "metadata": {},
   "source": [
    "Die besonders praktischen und schnellen f-Strings werden wir noch genauer kennenlernen:"
   ]
  },
  {
   "cell_type": "code",
   "execution_count": 9,
   "metadata": {},
   "outputs": [
    {
     "name": "stdout",
     "output_type": "stream",
     "text": [
      "Hansi 13\n",
      "Hallo Hansi\n"
     ]
    }
   ],
   "source": [
    "zahl = 13\n",
    "name = \"Hansi\"\n",
    "\n",
    "# oft möchten wir einen text zusammen bauen\n",
    "print(name + \" \" + str(zahl)) # geht nur bei gleichen datentypen\n",
    "\n",
    "# f string ist fast und komfortabel\n",
    "\n",
    "x = f'Hallo {name} - hast du schon mehr als {zahl} Schallplatten?'\n",
    "print(x)\n",
    "print(f'Hallo {name}')"
   ]
  },
  {
   "cell_type": "markdown",
   "metadata": {},
   "source": [
    "Und mit der *dir* Funktion können wir uns den Inhalt anzeigen lassen - falls die Hilfe mittels help nicht defniert ist oder zu lang ist. (Auch wieder primär interessant)\n",
    "\n",
    "Zur Wiederholung - Methoden oder Variablen die mit __ beginnen bzw. enden sind spezielle Methoden die wir überlicherweise nur selten selbst aufrufen müssen und von Python selbst aufgerufen werden. (Andere Namen dafür: **special**, **magic** oder **dunder**."
   ]
  },
  {
   "cell_type": "code",
   "execution_count": 5,
   "metadata": {
    "tags": []
   },
   "outputs": [],
   "source": [
    "x = \"Hansi\"\n",
    "\n",
    "#help(str)\n",
    "#help(type(x))\n",
    "\n",
    "#dir(x) # praktisch als kurze alternative zur hilfe, oder für später bei unserne eigenen objekten um zu schauen was sie alles können"
   ]
  },
  {
   "cell_type": "markdown",
   "metadata": {},
   "source": [
    "Wir haben bereits Listen Slicing kennengelernt - Achtung - dabei wird eine neue Liste erstellt. Zusätzlich gibt es aber auch noch die Möglichkeit eines dritten Parameters (ähnlich wie bei range):"
   ]
  },
  {
   "cell_type": "code",
   "execution_count": 15,
   "metadata": {},
   "outputs": [
    {
     "name": "stdout",
     "output_type": "stream",
     "text": [
      "[7, 6, 5, 4, 3, 2, 1]\n"
     ]
    }
   ],
   "source": [
    "# im vorherinen ausprobiet - list slicing mit drei parametern\n",
    "\n",
    "liste = [1,2,3,4,5,6,7]\n",
    "\n",
    "liste_umgekehrt = liste[::-1] #umgekehrte liste erzeugen\n",
    "\n",
    "print(liste_umgekehrt)\n"
   ]
  },
  {
   "cell_type": "markdown",
   "metadata": {},
   "source": [
    "Was wir uns bis jetzt auch noch nicht angesehen haben sind wie wir unsere Liste und den Inhalt dieser korrekt annotieren, damit anderne EntwicklerInnen wissen was wir erwarten. Ohne Angabe des Inhalts könnten wir einfach nur *list* schreiben. Aber wir möchten das genauer machen - Achtung hier gibt es neue Möglichkeiten mit Python 3.9 weshalb beide Varianten kurz dargestellt werden. [Siehe auch hier](https://peps.python.org/pep-0585/)"
   ]
  },
  {
   "cell_type": "code",
   "execution_count": 9,
   "metadata": {
    "tags": []
   },
   "outputs": [],
   "source": [
    "#def glueckszahl_addieren(zahl: int) -> int: # das möchten wir jetzt auch für listen machen\n",
    "\n",
    "\n",
    "def summe_liste_berechnen(l : list): # das ist der alte Weg vor Python 3.9\n",
    "    pass # wenn wir nichts tun wollen damit sich python nicht beschwert (bis wir es dann umgesetzt haben)\n",
    "\n",
    "# neue version ab 3.9\n",
    "from typing import List, Any # Achtung L ist jetzt groß\n",
    "\n",
    "def summe_liste_ganze_zahlen(l : List[int]) -> int: # gibt liste mit int Werten an\n",
    "    pass\n",
    "\n",
    "def print_different_elements(l: List[Any]): # signalisiert, dass in der liste beliebige Objekte sein können\n",
    "    pass\n",
    "\n"
   ]
  },
  {
   "cell_type": "markdown",
   "metadata": {},
   "source": [
    "### Listen in Listen\n",
    "Listen in Python sind sehr flexibel und können selbst auch wieder Listen beinhalten und sind somit sogenannte *nested lists*. (Vergleich zweidimensionale Arrays in anderen Programmiersprachen, wobei es jedoch den Unterschied gibt, dass diese Listen nicht gleich lange sein müssen)"
   ]
  },
  {
   "cell_type": "code",
   "execution_count": 33,
   "metadata": {},
   "outputs": [
    {
     "name": "stdout",
     "output_type": "stream",
     "text": [
      "[['kw40', 20009], ['kw41', 30000], ['kw42', 50000], ['kw43', 70000]]\n",
      "['kw41', 30000]\n",
      "30000\n",
      "-----------\n",
      "Schleife 0\n",
      "kw40\n",
      "20009\n",
      "Schleife 1\n",
      "kw41\n",
      "30000\n",
      "Schleife 2\n",
      "kw42\n",
      "50000\n",
      "Schleife 3\n",
      "kw43\n",
      "70000\n",
      "***************\n",
      "Äußere Schleife 0\n",
      "[100, 200, 300]\n",
      "[300, 400, 500]\n",
      "[200, 800, 803, 4000]\n",
      "Äußere Schleife 1\n",
      "[100, 200, 300]\n",
      "[300, 400, 500]\n",
      "[200, 800, 803, 4000]\n",
      "Äußere Schleife 2\n",
      "[100, 200, 300]\n",
      "[300, 400, 500]\n",
      "[200, 800, 803, 4000]\n",
      "[122, 233, 44]\n",
      "Äußere Schleife 3\n",
      "[100, 200, 300]\n",
      "[300, 400, 500]\n",
      "[200, 800, 803, 4000]\n",
      "*******\n",
      "Äußere Schleife 0\n",
      "[100, 200]\n",
      "[300, 400]\n",
      "Äußere Schleife 1\n",
      "[100, 200]\n",
      "[300, 400]\n",
      "Äußere Schleife 2\n",
      "[100, 200]\n",
      "[300, 400]\n",
      "Äußere Schleife 3\n",
      "[100, 200]\n",
      "[300, 400]\n"
     ]
    }
   ],
   "source": [
    "from typing import List\n",
    "# iPhone Verkaufszahlen (oder Samsung oder sonstwas...)\n",
    "# listen können auch unterschiedlich lang elisten beinhalten\n",
    "# zahlen = [[\"kw40\", 20009], [\"kw41\", 30000], [3000, 1000, 10000, 30000]]\n",
    "zahlen = [[\"kw40\", 20009], [\"kw41\", 30000], [\"kw42\", 50000], [\"kw43\", 70000]]\n",
    "\n",
    "print(zahlen)\n",
    "print(zahlen[1]) # zugriff auf das zweite listenelement (wieder eine liste)\n",
    "print(zahlen[1][1]) # zugriff auf zweite listenelemnet im zweiten listenelemente\n",
    "\n",
    "# wie können wir alle elemente einzeln ausgeben? bzw. darüber iterieren?\n",
    "print(\"-----------\")\n",
    "for idx1 in range(len(zahlen)):\n",
    "    print(f'Schleife {idx1}')\n",
    "    print(zahlen[idx1][0])\n",
    "    print(zahlen[idx1][1])\n",
    "\n",
    "# in dem fall alles gelöst yayyyy, ABER...\n",
    "# neues problem\n",
    "zahlen2 = [[100, 200, 300],[300, 400, 500], [200, 800, 803, 4000], [122, 233, 44]]\n",
    "zahlen3 = [[100, 200],[300, 400], [200, 800], [122, 233]]\n",
    "\n",
    "# Mein Wunsch: Eine Funktion die alle Zahlen einzeln (nicht als Liste ausgibt) - soll mit zahlen2, zahlen3 und anderen ähnlichen listen funktionieren\n",
    "print(\"***************\")\n",
    "\n",
    "def zahlen_ausgeben(l: List[List[int]]):\n",
    "    for idx1 in range(len(l)):\n",
    "        print(f'Äußere Schleife idx1 {idx1}')\n",
    "        for idx2 in range(len(l[idx1])):\n",
    "            print(f'Innere Schleife idx2 {idx2}')\n",
    "            print(l[idx1][idx2])\n",
    "        \n",
    "        \n",
    "    \n",
    "zahlen_ausgeben(zahlen2)\n",
    "print(\"*******\")\n",
    "zahlen_ausgeben(zahlen3)\n",
    "\n",
    "\n",
    "# Übung: Summieren sie alle Werte in der nested list und liefen sie das Ergebnis zurück\n",
    "\n",
    "#for part_list in l:\n",
    "#    for elem in part_list:\n",
    "        \n"
   ]
  },
  {
   "cell_type": "markdown",
   "metadata": {},
   "source": [
    "\n",
    "### continue und break\n",
    "Genauso wie wir Bedingungen ineinander verschalten können ist das bei Schleifen genauso möglich.\n",
    "\n",
    "Wir haben die *for* und die *while* Schleife kennengelernt: Es gibt auch noch zwei andere Wege die Schleifenwiederholungen zu unterbrechen bzw. zu überspringen.\n",
    "\n",
    "Manchmal ist eine Schleife erledigt und muss nicht mehr alle weiteren Iterationen ausführen. Mit *break* kann eine Schleife beendet werden - bitte nur verwenden wenn es wirklich notwendig ist."
   ]
  },
  {
   "cell_type": "code",
   "execution_count": 3,
   "metadata": {
    "tags": []
   },
   "outputs": [
    {
     "name": "stdin",
     "output_type": "stream",
     "text": [
      " test\n"
     ]
    },
    {
     "name": "stdout",
     "output_type": "stream",
     "text": [
      "Noch eine Runde test\n"
     ]
    },
    {
     "name": "stdin",
     "output_type": "stream",
     "text": [
      " q\n"
     ]
    }
   ],
   "source": [
    "\n",
    "while True:\n",
    "    eingabe = input()\n",
    "    if eingabe == \"baba\" or eingabe == \"q\":\n",
    "        break\n",
    "    print(f'Noch eine Runde {eingabe}')\n",
    "    \n",
    "    #break # Sobald ich beim Break bin springt es raus\n"
   ]
  },
  {
   "cell_type": "markdown",
   "metadata": {},
   "source": [
    "Mit *continue* können wir eine Iteration der Schleife überspringen."
   ]
  },
  {
   "cell_type": "code",
   "execution_count": 5,
   "metadata": {
    "tags": []
   },
   "outputs": [
    {
     "name": "stdout",
     "output_type": "stream",
     "text": [
      "Winke winke aus Schleife\n",
      "Winke winke aus Schleife\n",
      "Winke winke aus Schleife\n",
      "Winke winke aus Schleife\n",
      "7\n",
      "Winke winke aus Schleife\n",
      "Winke winke aus Schleife\n",
      "Winke winke aus Schleife\n",
      "Winke winke aus Schleife\n",
      "9\n",
      "Winke winke aus Schleife\n",
      "4\n",
      "Winke winke aus Schleife\n"
     ]
    }
   ],
   "source": [
    "# Beispiel für continue - wir möchten nur Ziffern aus einem String ausgeben\n",
    "\n",
    "text = \"ABC7DEF94R\"\n",
    "\n",
    "# Beispiel nur zur Illustration von continues - hiere wäres mit not buchstabe.isalpha() sicher \"ästhetischer\"\n",
    "for buchstabe in text:\n",
    "    print(\"Winke winke aus Schleife\")\n",
    "    if buchstabe.isalpha():\n",
    "        continue\n",
    "    print(buchstabe)\n",
    "\n"
   ]
  },
  {
   "cell_type": "markdown",
   "metadata": {},
   "source": [
    "### Weitere Collections\n",
    "In Folge werden wir uns noch die wichtigsten anderen eingebauten Collections ansehen. (Es git noch einige mehr - siehe collections Package)\n",
    "\n",
    "#### Set\n",
    "In einem Set können Elemente gespeichert werden, wobei jedes Element maximal nur einmal in einem Set vorkommen darf. Im Gegensatz zur Liste ist ein Set unsortiert, dass heißt die Elemente werden nicht in einer bestimmten Reihenfolge gespeichert. (Auch wenn wir Sie in einer gewissen Reihenfolge abspeichern ist uns nicht garantiert, dass wir Sie wieder in dieser Reihenfolge abfragen können.)\n",
    "\n",
    "Zum Erzeugen eines Sets verwenden wir geschwungene Klammern oder *set()* für eine leere Menge."
   ]
  },
  {
   "cell_type": "code",
   "execution_count": 4,
   "metadata": {
    "tags": []
   },
   "outputs": [
    {
     "name": "stdout",
     "output_type": "stream",
     "text": [
      "<class 'set'>\n",
      "{'a', 'l', 'h', 'o'}\n",
      "{'a', 'l', 'h', 'o'}\n",
      "{0, 1, 2, 3, 4, 5, 6, 7, 8, 9}\n"
     ]
    }
   ],
   "source": [
    "# Menge definieren\n",
    "menge = {'A', 'B', 'C'}\n",
    "print(type(menge))\n",
    "# alternative Definitionsmöglichkeit\n",
    "menge2 = set(\"hallo\") # hier unerwartes verhalten - es wird über den string itereiert und jeder buchstabe eingefügt\n",
    "print(menge2)\n",
    "menge3 = set([\"h\",\"a\",\"l\",\"l\",\"o\"])\n",
    "print(menge3)\n",
    "menge4 = set(range(10))\n",
    "print(menge4)\n",
    "#help(set)"
   ]
  },
  {
   "cell_type": "markdown",
   "metadata": {},
   "source": [
    "Das set stellt eine Menge im mathematischen Sinne dar und bietet entsprechende Funktionalität - siehe *dir(set)*. Auch können manche dieser Funktionen direkt über Operatoren aufgerufen werden.\n",
    "\n",
    "* s1 - s2: difference\n",
    "* s1 & s2: intersection\n",
    "* s1 <= s2: issubset\n",
    "* s1 >= s2: issuperset\n",
    "* s1 | s2 : union\n",
    "* s1 ^ s2 : symmetric difference\n",
    "\n"
   ]
  },
  {
   "cell_type": "code",
   "execution_count": 15,
   "metadata": {
    "tags": []
   },
   "outputs": [
    {
     "name": "stdout",
     "output_type": "stream",
     "text": [
      "{'a', 'h', 'o'}\n",
      "{0, 2, 4, 6, 8, 10}\n",
      "True\n",
      "{0, 2, 4, 6, 8, 10}\n",
      "True\n",
      "{'abc@mail.com', 'susi@mail.com', 'chris@mail.com', 'test@mail.com', 'ebner@mail.com'}\n"
     ]
    }
   ],
   "source": [
    "menge1 = set(\"hallo\")\n",
    "menge2 = set(\"ll\")\n",
    "\n",
    "print(menge1-menge2)\n",
    "alle = set(range(11))\n",
    "gerade = set(range(0,11,2))\n",
    "print(gerade)\n",
    "print(0 in gerade) # element in dem set?\n",
    "print(alle & gerade)\n",
    "print(gerade <= alle) # ist menge der elemente in gerade eine untermenge von alle\n",
    "\n",
    "gewinnspiel_mail = ['abc@mail.com', 'ebner@mail.com', 'test@mail.com', 'ebner@mail.com']\n",
    "g = set(gewinnspiel_mail)\n",
    "g.add('chris@mail.com') # elemente hinzufügen\n",
    "g.add('susi@mail.com')\n",
    "print(g)\n"
   ]
  },
  {
   "cell_type": "markdown",
   "metadata": {},
   "source": [
    "Mengen können zwar verändert werden, aber Sie dürfen keine sich verändernden Werte beinhalten (Listen, Sets und andere veränderbare Collections). Als Alternative gibt es *frozensets* die sich nicht mehr verändern lassen.\n",
    "\n",
    "(Etwas konkreter: Die Typen in einem Set werden mit einem Hashwert intern gespeichert, damit die Operationen sehr schnell umgesetzt werden können - dieser Hashwert könnte sich bei veränderbaren Typen ändern.)\n",
    "\n",
    "\n",
    "#### Nächste Collection: Tuple\n",
    "Neben String und Listen gibt es auch noch Tuple als einen geordneten Typ der nach Erzeugung nicht veränderbar ist. Diese werden mit runden Klammern definiert. Die Objekte die sich darin befinden können aber verändert werden."
   ]
  },
  {
   "cell_type": "code",
   "execution_count": 32,
   "metadata": {
    "tags": []
   },
   "outputs": [
    {
     "name": "stdout",
     "output_type": "stream",
     "text": [
      "<class 'tuple'>\n",
      "('Frühling', 'Sommer', 'Herbst', 'Winter')\n",
      "(17,)\n",
      "(22, ['hi', 5])\n",
      "(33, (1, 3))\n",
      "(22, ['bye', 5])\n"
     ]
    }
   ],
   "source": [
    "# Beispiel \n",
    "jahreszeiten = (\"Frühling\", \"Sommer\", \"Herbst\", \"Winter\")\n",
    "print(type(jahreszeiten))\n",
    "#dir(jahreszeiten)\n",
    "print(jahreszeiten)\n",
    "\n",
    "# Tupel mit einem Wert\n",
    "x = (17, ) # ohne Beistrich nicht eindeutig für Python\n",
    "\n",
    "print(x)\n",
    "#x[0] = 18 # tuple ist nicht verändlich deshalb fehler\n",
    "\n",
    "l1=[\"hi\", 5]\n",
    "t1 = (1,3)\n",
    "y = (22, l1)\n",
    "x = (33, t1)\n",
    "print(y)\n",
    "print(x)\n",
    "\n",
    "# werken an y herum\n",
    "#y[0] = 23 # geht nicht wie erwartet\n",
    "#y[1]  = t1 # geht auch nicht wie erwartet\n",
    "y[1][0] = \"bye\"\n",
    "print(y)"
   ]
  },
  {
   "cell_type": "markdown",
   "metadata": {},
   "source": [
    "[Schauen wir noch einmal bei PythonTutor](http://pythontutor.com/visualize.html#code=l1%20%3D%20%5B%22hi%22,%204%5D%0Al2%20%3D%20%5B%22baba%22,%2012%5D%0Ay%20%3D%20%2822,%20l1,%20l2%29%0Ay%5B1%5D%5B1%5D%20%3D%207777%0Aprint%28y%29&cumulative=false&curInstr=0&heapPrimitives=true&mode=display&origin=opt-frontend.js&py=3&rawInputLstJSON=%5B%5D&textReferences=true)\n",
    "\n",
    "One more thing: Mit Tupel können wir auch noch eine Mehrfachzuweisung machen:"
   ]
  },
  {
   "cell_type": "code",
   "execution_count": 38,
   "metadata": {
    "tags": []
   },
   "outputs": [
    {
     "name": "stdout",
     "output_type": "stream",
     "text": [
      "3\n",
      "2\n",
      "3\n",
      "2\n"
     ]
    }
   ],
   "source": [
    "a = 2\n",
    "b = 3\n",
    "# möchte den wert von a und b vertauschen\n",
    "help = b\n",
    "b = a\n",
    "a = help\n",
    "print(a)\n",
    "print(b)\n",
    "\n",
    "# mit tupeln\n",
    "a= 2\n",
    "b = 3\n",
    "a, b = b, a\n",
    "print(a)\n",
    "print(b)\n"
   ]
  },
  {
   "cell_type": "markdown",
   "metadata": {},
   "source": [
    "#### Nächste Collection: Dictionaries\n",
    "Das dictionary (alternative Namen in anderen Sprachen: Map, Hashmap oder Hashtable) stellt eine etwas kompliziertere aber sehr praktische Collection dar. Sie ist ungeordnet und veränderbar und besteht aus **Schlüssel/Wert Paaren**. (key/value pairs) \n",
    "\n",
    "Jeder Eintrag besteht aus einem Schlüssel und einem dazu assozierten Wert. Jeder Schlüsselwert darf nur einmal vorkommen (alle Schlüssel ergeben eine Menge). Für einen Eintrag dürfen sich die die Schlüssel nicht verändern, aber die Werte schon.\n",
    "\n",
    "Diese Collection erlaubt es sehr schnell nach dem Schlüssel zu suchen und auf ein dazugehöriges Element zuzugreifen. (Ohne alle Elemente zu durchsuchen) \n",
    "\n",
    "Wann könnte soetwas Sinn machen?\n",
    "\n",
    "| **Schlüssel**             | **Wert**              |\n",
    "|---------------------------|-----------------------|\n",
    "| MitarbeiterInnen Nr       | MitarbeiterIn         |\n",
    "| PLZ                       | Ort                   |\n",
    "| Sozialversicherungsnummer | PatientInnen Akte     |\n",
    "| Vogelname                 | Anzahl der Sichtungen |\n",
    "| Kontonummer               | Konto                 |\n",
    "\n",
    "Ähnlich wie Sets verwenden wir ebenso geschwungene Klammern, aber mit Doppelpunkt um Schlüssel und Wert zu trennen:"
   ]
  },
  {
   "cell_type": "code",
   "execution_count": 23,
   "metadata": {},
   "outputs": [
    {
     "name": "stdout",
     "output_type": "stream",
     "text": [
      "<class 'dict'>\n",
      "{1001: 'Hansi', 1002: 'Susi'}\n",
      "Hansi\n",
      "None\n",
      "7\n",
      "{1001: 'Tina', 1002: 'Susi', 1003: 'Tobi'}\n",
      "{1001: 'Tina', 1002: 'Susi'}\n",
      "{1001: 'Tina', 1002: 'Susi', 1003: 'Tobi', 1004: 'Steffi'}\n",
      "1002 gibt es\n",
      "Schlüssel: 1001 Wert: Tina\n",
      "Schlüssel: 1002 Wert: Susi\n",
      "Schlüssel: 1003 Wert: Tobi\n",
      "Schlüssel: 1004 Wert: Steffi\n",
      "Schlüssel: 1001 Wert: Tina\n",
      "Schlüssel: 1002 Wert: Susi\n",
      "Schlüssel: 1003 Wert: Tobi\n",
      "Schlüssel: 1004 Wert: Steffi\n"
     ]
    }
   ],
   "source": [
    "leeres_dict = {} # ist ein dict - set kann so nicht erzeugt werden\n",
    "leeres_dict2 = dict()\n",
    "print(type(leeres_dict))\n",
    "#help(leeres_dict)\n",
    "angestellte = {1001: \"Hansi\", 1002: \"Susi\"} # : zwischen key und value\n",
    "\n",
    "print(angestellte)\n",
    "\n",
    "# zugriff über schlüssel/key\n",
    "print(angestellte[1001])\n",
    "\n",
    "#print(angestellte[1003]) # bei falschem schlüssel - KeyError\n",
    "print(angestellte.get(1003)) # get liefert keinen Fehler - sondern den defaultWert\n",
    "print(angestellte.get(1003, 7)) # liefert uns den defaultWert 7 falls key nicht im dict\n",
    "\n",
    "angestellte[1003] = \"Tobi\" # neuen Wert hinzufügen\n",
    "\n",
    "angestellte[1001] = \"Tina\" # Inhalt ersetzen\n",
    "print(angestellte)\n",
    "\n",
    "# Werte entfernen del\n",
    "del angestellte[1003]\n",
    "print(angestellte)\n",
    "\n",
    "# mehrere daten einfügen\n",
    "angestellte.update([(1003, \"Tobi\"), (1004, \"Steffi\")])\n",
    "print(angestellte)\n",
    "\n",
    "\n",
    "# ist schlüssel im dict?\n",
    "if 1002 in angestellte:\n",
    "    print(\"1002 gibt es\")\n",
    "    \n",
    "# typische for varianten\n",
    "for k in angestellte:\n",
    "    print(f\"Schlüssel: {k} Wert: {angestellte[k]}\")\n",
    "\n",
    "for k, v in angestellte.items():\n",
    "    print(f\"Schlüssel: {k} Wert: {v}\")\n",
    "    \n",
    "#help(angestellte)"
   ]
  },
  {
   "cell_type": "markdown",
   "metadata": {},
   "source": [
    "Für diese Collections gibt es genauso Typen im *typing* Modul (alte Version bis 3.8.) bzw. können direkt verwnendet werden.\n",
    "\n",
    "#### Wann verwenden wir nun was?\n",
    "| Collection | Veränderbar | Geordnet | Anwendung                                                                                                       |\n",
    "|------------|-------------|----------|-----------------------------------------------------------------------------------------------------------------|\n",
    "| str        | Nein        | Ja       | Text speichern                                                                                                  |\n",
    "| list       | Ja          | Ja       | Geordnete Werte die veränderbar sind                                                                            |\n",
    "| tuple      | Nein        | Ja       | Geordnete Werte die nicht veränderbar sind                                                                      |\n",
    "| set        | Ja          | Nein     | Ungeordnete Werte speichern die maximal einmal vorkommen (die beinhalteten Werte dürfen nicht veränderbar sein) |\n",
    "| dict       | Ja          | Nein*    | Mapping zwischen Keys und Values (Keys dürfen nicht veränderbar sein)                                           |\n",
    "\n",
    "Ad \\*: In aktuellen Versionen liefert dictionary die Werte immer in der gleichen Reihenfolge - das war früher anders und darauf sollen wir uns nicht verlassen."
   ]
  },
  {
   "cell_type": "code",
   "execution_count": 24,
   "metadata": {},
   "outputs": [],
   "source": [
    "from typing import Dict, List, Set, Tuple\n",
    "import random\n",
    "# Übungsbeispiele\n",
    "\n",
    "# UE_1 Die Funktion hauptdiagonale soll die Summe aller Elemente auf der Hauptdiagonale einer zweidimensionalen Liste \n",
    "# (Liste mit Listen gleicher Länge als Inhalt, mathematisch auch (quadratische) Matrix genannt) berechnen. Die Funktion bekommt diese\n",
    "# Matrix mit int Werten als Parameter und liefert die Summe als Ergebnis.\n",
    "# Annahme: Zeilen und Spaltenanzahl ist gleich -> quadratische Matrix\n",
    "# Beispiel Größe 4: l = [[],[],[],[]] grafisch aufbereitet\n",
    "# \n",
    "#     1    2    3    4    dann sind die Elemente       X    2    3    4\n",
    "#     5    6    7    8    auf der Hauptdiagonale       5    X    7    8\n",
    "#     9    1    2    3    mit X markiert               9    1    X    3\n",
    "#     4    5    6    7                                 4    5    6    X\n",
    "#\n",
    "def hauptdiagonale(liste : List[List[int]]) -> int:\n",
    "    sum = 0\n",
    "    for i in range(len(liste)):\n",
    "        for j in range(len(liste[i])):\n",
    "            if i == j:\n",
    "                sum += liste[i][j]\n",
    "    return sum;\n",
    "\n",
    "def hauptdiagonalev2(liste : List[List[int]]) -> int:\n",
    "    sum = 0\n",
    "    for i in range(len(liste)):\n",
    "        sum += liste[i][i]\n",
    "    return sum;\n",
    "\n",
    "\n",
    "#l = [[1, 2, 3, 4],[5, 6, 7, 8],[9, 1, 2, 3],[4, 5, 6, 7]]\n",
    "#print(hauptdiagonale(l))\n",
    "#print(hauptdiagonalev2(l)\n",
    "\n",
    "# UE_2 Die Funktion verkaufte_smartphones erhält eine Liste mit den Namen der verkauften Smartphones. Die Funktion\n",
    "# soll ein dictionary zurückliefern, das uns anzeigt wie oft welches Gerät verkauft wurde. Als Schlüssel soll der Name des\n",
    "# Smartphones dienen und der dazugehörige Wert soll die Anzahl der verkaufen Einheiten sein.\n",
    "# Bsp: {\"iphone 11\": 12, \"galaxy note 20\": 33, \"pixel 4\": 4}\n",
    "\n",
    "liste = [\"iphone 15 pro\", \"samsung galaxy s23\", \"huawei 11\", \"iphone 14\", \"iphone 14\", \"honor 5\", \"xiaomi 7\"]\n",
    "\n",
    "def verkaufte_smartphones(geraete: List[str]) -> Dict[str, int]:\n",
    "    erg = {}\n",
    "    for g in geraete:\n",
    "        erg[g] = erg.get(g, 0) + 1\n",
    "        \n",
    "    return erg\n",
    "\n",
    "#verkauft = [\"iphone 13\", \"iphone 12\", \"iphone 12\", \"iphone 15\", \"iphone 15\", \"pixel 8\", \"pixel 7\"]\n",
    "#print(verkaufte_smartphones(verkauft))\n",
    "\n",
    "\n",
    "# UE_3 Die Funktion mittelwerte erhält als Parameter eine Liste die wieder Listen enthält. Jeder dieser Teillisten enthält\n",
    "# float Werte. Für jede dieser Teillisten soll der Mittelwert berechnet werden und in einer neuen Liste gespeichert und als\n",
    "# Rückgabewert zurückgeliefert werden. \n",
    "# Den arithmetische Mittelwert erhält man wenn man die aufsummierten Listenwerte durch\n",
    "# die Anzahl dividiert.\n",
    "\n",
    "def mittelwerte(zahlen : List[List[int]]) -> int:\n",
    "    avg = []\n",
    "    for i in range(len(zahlen)):\n",
    "        sum = 0\n",
    "        for j in range(len(zahlen[i])):\n",
    "            sum += zahlen[i][j]\n",
    "        avg.append(sum / len(zahlen[i]))\n",
    "    return avg;\n",
    "\n",
    "#l2 = [[1, 2, 3],[5, 6, 7],[10, 15, 20],[1000, 2000]]\n",
    "#print(mittelwerte(l2))\n",
    "\n",
    "\n",
    "\n",
    "# UE_4 Erstellen Sie eine Funktion lucky_looser die zwei Listen mit Namen als Parameter erhält.\n",
    "# In der ersten Liste sind all jene Personen die im ersten Gewinnspiel nichts gewonnen haben und\n",
    "# in der zweiten Liste all jene Namen die beim zweiten Gewinnspiel nichts gewonnen haben.\n",
    "# Die Funktion soll jetzt drei \"Lucky Looser\" auswählen die weder im ersten noch im zweiten Gewinnspiel\n",
    "# gewonnen haben und diese auf einer Liste als Rückgabewert liefern.\n",
    "# Hinweis: Welche Collection macht Sinn? Sie können diese konvertieren...\n",
    "# Hinweis2 : Verwenden Sie random.choice\n",
    "# Hinweis3: Keine Fehlerbehandlung notwendig - bereiten Sie Listen vor die zumindest 3 Lucky Looser haben\n",
    "# Erweiterungsmöglichkeit: Auch Listen mit weniger Lucky Looser funktionieren\n",
    "# Erweiterungsmöglihckeit2: Zusätzlicher Parameter gigbt die Anzahl der Lucky Looser an\n",
    "\n",
    "def lucky_looser(looser1 : List[str], looser2 : List[str], nr_winner : int) -> List[str]:\n",
    "    potential = list(set(looser1).intersection(set(looser2)))\n",
    "    winners = []\n",
    "    for nr in range(nr_winner):\n",
    "        if len(potential) == 0:\n",
    "            break\n",
    "        \n",
    "        w = random.choice(potential)\n",
    "        winners.append(w)\n",
    "        potential.remove(w)\n",
    "        \n",
    "    return winners\n",
    "\n",
    "#l1 = [\"A\", \"B\", \"C\", \"D\", \"E\"]\n",
    "#l2 = [\"C\", \"D\", \"E\", \"F\"]\n",
    "#print(lucky_looser(l1, l2, 3))\n",
    "\n"
   ]
  },
  {
   "cell_type": "code",
   "execution_count": null,
   "metadata": {},
   "outputs": [],
   "source": []
  }
 ],
 "metadata": {
  "kernelspec": {
   "display_name": "Python 3 (ipykernel)",
   "language": "python",
   "name": "python3"
  },
  "language_info": {
   "codemirror_mode": {
    "name": "ipython",
    "version": 3
   },
   "file_extension": ".py",
   "mimetype": "text/x-python",
   "name": "python",
   "nbconvert_exporter": "python",
   "pygments_lexer": "ipython3",
   "version": "3.11.5"
  }
 },
 "nbformat": 4,
 "nbformat_minor": 4
}
