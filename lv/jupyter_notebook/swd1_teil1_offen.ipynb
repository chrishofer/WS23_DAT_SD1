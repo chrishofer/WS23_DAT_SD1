{
 "cells": [
  {
   "cell_type": "markdown",
   "metadata": {},
   "source": [
    "## Offene Themen Teil1"
   ]
  },
  {
   "cell_type": "markdown",
   "metadata": {},
   "source": [
    "### Typ: bool (Boolean)\n",
    "\n",
    "Der Typ bool kann die Werte *True* und *False* besitzen.\n",
    "\n",
    "Folgende Operationen gibt es:\n",
    "* **not** *x* (Wahrheitswert wird in Gegenteil umgewandelt, aus *True* wird *False* aus *False* wird *True*\n",
    "* *x* **and** *y* (nur *True* wenn Operanden x und y *True* sind, sonst *False*)\n",
    "* *x* **or** *y* (*True* sobald zumindest ein Operand *True* ist, nur *False* wenn beide Operanden *False* sind)\n",
    "\n",
    "Wahrheitstabelle\n",
    "\n",
    "| x     | y     | not x | x and y | x or y |\n",
    "|-------|-------|-------|---------|--------|\n",
    "| True  | True  | False | True    | True   |\n",
    "| True  | False | False | False   | True   |\n",
    "| False | True  | True  | False   | True   |\n",
    "| False | False | True  | False   | False  |\n",
    "\n"
   ]
  },
  {
   "cell_type": "markdown",
   "metadata": {},
   "source": [
    "\n",
    "Trockenübung - überlegen und ausfüllen: \n",
    "\n",
    "| x     | y     | (not x) and y | not (x and not y) | (not x or not y) |\n",
    "|-------|-------|---------------|-------------------|------------------|\n",
    "| True  | True  |   False         |       True            |        False          |\n",
    "| True  | False |    False       |           False       |            True      |\n",
    "| False | True  |     True          |             True      |           True       |\n",
    "| False | False |         False      |             True      |           True       |\n"
   ]
  },
  {
   "cell_type": "markdown",
   "metadata": {},
   "source": [
    "#### Kurzschlussauswertung (Short-circuit evaluation)\n",
    "\n",
    "Ausdruck wird von links nach rechts nur solange ausgewertet bis Ergebnis schon eindeutig klar ist.\n",
    "\n",
    "Wann ist das der Fall?"
   ]
  },
  {
   "cell_type": "code",
   "execution_count": 9,
   "metadata": {
    "scrolled": true
   },
   "outputs": [
    {
     "name": "stdout",
     "output_type": "stream",
     "text": [
      "fkt1\n",
      "fkt1\n",
      "oder yayy\n"
     ]
    }
   ],
   "source": [
    "# Nächstes Mal\n",
    "\n",
    "# Python schaut sich bei logischen and oder or Bedingungen manchmal nicht beide Seiten an\n",
    "\n",
    "# die macht nichts sinnvolles - nur zur illustration\n",
    "def fkt1(rueck: bool):\n",
    "    print(\"fkt1\")\n",
    "    return rueck\n",
    "\n",
    "def fkt2(rueck: bool):\n",
    "    print(\"fkt2\")\n",
    "    return rueck\n",
    "\n",
    "\n",
    "#fkt1(True)\n",
    "#fkt2(True)\n",
    "\n",
    "\n",
    "# achtung in dem fall wird zweite funktion nicht ausgeführt weil die rechte seite nicht mehr evaluiert werden muss\n",
    "# um das ergebnis des logischen unds zu bestimmen\n",
    "if fkt1(False) and fkt2(True):\n",
    "    print(\"yaayy\")\n",
    "\n",
    "#x = fuehre_bestellung_aus()\n",
    "#y = fuehre_bestellung_aus2()\n",
    "\n",
    "#if x and y:\n",
    "#    print(\"alles funktioniert\")\n",
    " \n",
    "if fkt1(True) or fkt2(True):\n",
    "    print(\"oder yayy\")    "
   ]
  },
  {
   "cell_type": "code",
   "execution_count": 13,
   "metadata": {},
   "outputs": [
    {
     "name": "stdout",
     "output_type": "stream",
     "text": [
      "7 >= 7\n",
      "else teil\n",
      "größer 10\n",
      ">100\n"
     ]
    }
   ],
   "source": [
    "# Kurze Wiedehrolung\n",
    "\n",
    "# vergleiche -> bool\n",
    "# > < <= >= \n",
    "# == (ist gleich - Gleichheit)\n",
    "# != ungleich\n",
    "\n",
    "# if\n",
    "if 7 >= 7:\n",
    "    print(\"7 >= 7\")\n",
    "\n",
    "# if\n",
    "\n",
    "\n",
    "if 3 >= 4:\n",
    "    print(\"if teil\")\n",
    "else:\n",
    "    print(\"else teil\")\n",
    "\n",
    "\n",
    "x = 101\n",
    "\n",
    "# achtung falsch - die reihenfolge ist nicht korrekt - es wird immer nur ein block ausgeführt - der erste der True ist\n",
    "if x > 10:\n",
    "    print(\"größer 10\")\n",
    "elif x > 100:\n",
    "    print(\">100\")\n",
    "elif x > 1000:\n",
    "    print(\"> 1000\")\n",
    "else:\n",
    "    print(\"was anderes\")\n",
    "\n",
    "\n",
    "# korrekt wäre\n",
    "if x > 1000:\n",
    "    print(\"größer 1000\")\n",
    "elif x > 100:\n",
    "    print(\">100\")\n",
    "elif x > 10:\n",
    "    print(\"> 10\")\n",
    "else:\n",
    "    print(\"kleiner gleich 10\")\n",
    "\n",
    "\n",
    "    \n",
    "    \n",
    "    "
   ]
  },
  {
   "cell_type": "code",
   "execution_count": null,
   "metadata": {},
   "outputs": [],
   "source": []
  }
 ],
 "metadata": {
  "kernelspec": {
   "display_name": "Python 3 (ipykernel)",
   "language": "python",
   "name": "python3"
  },
  "language_info": {
   "codemirror_mode": {
    "name": "ipython",
    "version": 3
   },
   "file_extension": ".py",
   "mimetype": "text/x-python",
   "name": "python",
   "nbconvert_exporter": "python",
   "pygments_lexer": "ipython3",
   "version": "3.11.5"
  }
 },
 "nbformat": 4,
 "nbformat_minor": 4
}
