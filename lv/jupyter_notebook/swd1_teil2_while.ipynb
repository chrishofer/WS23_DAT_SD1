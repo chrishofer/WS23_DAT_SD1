{
 "cells": [
  {
   "cell_type": "markdown",
   "metadata": {},
   "source": [
    "### Déjà-vu - Schleifen (Kontrollfluss)\n",
    "\n",
    "```python\n",
    "while <<Bedingung>>:\n",
    "\t<<Block mit Anweisungen>>\n",
    "    \n",
    "<<Anweisungen danach>>\n",
    "```\n",
    "Mit Schleifen können Programmteile mehrmals ausgeführt werden. Die Anweisungen werden so oft wiederholt bis die Bedingung *False* ist.\n",
    "\n",
    "Beispiel siehe [Python Tutor](http://pythontutor.com/visualize.html#code=hasen%20%3D%205%0Awhile%20hasen%20%3E%200%3A%0A%20%20%20%20print%28hasen%29%0A%20%20%20%20hasen%20%3D%20hasen%20-%201%0A%20%20%20%20%0Aprint%28%22Code%20danach%22%29&cumulative=false&curInstr=0&heapPrimitives=true&mode=display&origin=opt-frontend.js&py=3&rawInputLstJSON=%5B%5D&textReferences=true)\n",
    "\n",
    "Für unser erstes gemeinsames Beispiel verwenden wir zusätzlich die noch nicht bekannte Funktion *input* um Eingaben von der Tastatur zu erlauben."
   ]
  },
  {
   "cell_type": "code",
   "execution_count": 1,
   "metadata": {
    "ExecuteTime": {
     "end_time": "2023-11-14T15:09:30.326808Z",
     "start_time": "2023-11-14T15:08:46.806321Z"
    },
    "scrolled": true
   },
   "outputs": [
    {
     "name": "stdout",
     "output_type": "stream",
     "text": [
      "\n",
      "<class 'str'>\n"
     ]
    },
    {
     "ename": "ValueError",
     "evalue": "invalid literal for int() with base 10: ''",
     "output_type": "error",
     "traceback": [
      "\u001b[0;31m---------------------------------------------------------------------------\u001b[0m",
      "\u001b[0;31mValueError\u001b[0m                                Traceback (most recent call last)",
      "Input \u001b[0;32mIn [1]\u001b[0m, in \u001b[0;36m<cell line: 5>\u001b[0;34m()\u001b[0m\n\u001b[1;32m      2\u001b[0m \u001b[38;5;28mprint\u001b[39m(x)\n\u001b[1;32m      3\u001b[0m \u001b[38;5;28mprint\u001b[39m(\u001b[38;5;28mtype\u001b[39m(x))\n\u001b[0;32m----> 5\u001b[0m \u001b[38;5;28mprint\u001b[39m(\u001b[38;5;28mtype\u001b[39m(\u001b[38;5;28;43mint\u001b[39;49m\u001b[43m(\u001b[49m\u001b[43mx\u001b[49m\u001b[43m)\u001b[49m)) \u001b[38;5;66;03m# nicht sonderlich nützlich - einfach ein bsp der schachtelungsmöglichkeiten\u001b[39;00m\n\u001b[1;32m      7\u001b[0m x_als_zahl \u001b[38;5;241m=\u001b[39m \u001b[38;5;28mint\u001b[39m(x)\n\u001b[1;32m      9\u001b[0m \u001b[38;5;28;01mwhile\u001b[39;00m x_als_zahl \u001b[38;5;241m>\u001b[39m\u001b[38;5;241m=\u001b[39m \u001b[38;5;241m0\u001b[39m:\n",
      "\u001b[0;31mValueError\u001b[0m: invalid literal for int() with base 10: ''"
     ]
    }
   ],
   "source": [
    "x = input() # bekomme die Eingabe als String\n",
    "print(x)\n",
    "print(type(x))\n",
    "\n",
    "print(type(int(x))) # nicht sonderlich nützlich - einfach ein bsp der schachtelungsmöglichkeiten\n",
    "\n",
    "x_als_zahl = int(x)\n",
    "\n",
    "while x_als_zahl >= 0:\n",
    "    print(x_als_zahl)\n",
    "    print(\"Hallo\")\n",
    "    x_als_zahl -= 1 # x_als_zahl = x_als_zahl - 1\n"
   ]
  },
  {
   "cell_type": "markdown",
   "metadata": {},
   "source": [
    "**Achtung Endlosschleifen**: Innerhalb der Schleife müssen (üblicherweise) Anweisungen vorkommen, welche Einfluss auf Bedingungen haben."
   ]
  },
  {
   "cell_type": "code",
   "execution_count": 5,
   "metadata": {},
   "outputs": [
    {
     "name": "stdout",
     "output_type": "stream",
     "text": [
      "0\n",
      "1\n",
      "1\n",
      "2\n",
      "3\n",
      "5\n",
      "8\n",
      "13\n",
      "21\n"
     ]
    }
   ],
   "source": [
    "# Übungsbeispiele while Schleifen\n",
    "\n",
    "# UE_1 Erstellen Sie eine Funktion countdown die eine ganze Zahl als\n",
    "# Parameter erhält und am Bildschirm von der Zahl bis 0 runter zählt\n",
    "# und am Bildschirm ausgibt.\n",
    "\n",
    "def countdown(zahl: int):\n",
    "    while zahl >= 0:\n",
    "        print(zahl)\n",
    "        zahl -= 1\n",
    "        \n",
    "#x = 11\n",
    "#countdown(x)\n",
    "\n",
    "\n",
    "# UE_2 a) Erstellen Sie eine Funktion runter_wuerfeln die von einem\n",
    "# mitgegebenem ganzzahligem Wert auf 0 runter gewürfelt werden soll.\n",
    "# Zu Beginn soll \"Start: <<Wert>>\" ausgegeben werden. \n",
    "# In jeder Runde soll man über die Tastatur eingeben um welchen Wert\n",
    "# hinunter gezählt werden soll und das neue Ergebnis wird ausgegeben. \n",
    "# Nur Zahlen zwischen 1 und 6 führen zum Runterzählen. Wenn die Zahl 0\n",
    "# oder kleiner ist wird der Text Gewonnen! augegeben und die Funktion \n",
    "# beendet.\n",
    "\n",
    "def runter_wuerfeln_a(wert: int):\n",
    "    \n",
    "    print(\"Start: \" + str(wert))\n",
    "    \n",
    "    while wert > 0:\n",
    "        z = int(input()) # wir gehen davon aus dass niemand einen text eingibt sondern wirklich ganze zahl\n",
    "        # die soll zwischen 1 und 6 sein\n",
    "        if z >= 1 and z <= 6:\n",
    "            # wir wissen es ist ein gültige würfelzahl\n",
    "            wert -= z\n",
    "            print(wert)\n",
    "        \n",
    "    print(\"Gewonnen\")\n",
    "\n",
    "    \n",
    "    \n",
    "\n",
    "        \n",
    "#runter_wuerfeln_a(37)\n",
    "        \n",
    "# b) Zählen Sie mit wie oft gewürfelt wurde und liefern Sie diesen Wert\n",
    "# als Rückgabewert.\n",
    "\n",
    "def runter_wuerfeln_b(wert : int) -> int:\n",
    "    print(\"Start: \" + str(wert))\n",
    "    zaehler = 0\n",
    "    while wert > 0:\n",
    "        eingabe = int(input())\n",
    "        if eingabe >= 1 and eingabe <=6:\n",
    "            wert -= eingabe\n",
    "            zaehler += 1\n",
    "            print(wert)\n",
    "    print(\"Gewonnen!\")\n",
    "    return zaehler\n",
    "\n",
    "# print(runter_wuerfeln_b(33))\n",
    "\n",
    "    \n",
    "# c) Sie müssen am Ende genau 0 treffen und sonst wird der falsche Wert\n",
    "# addiert. Stellen Sie sich vor, dass sind wirklich Würfel dann wirkt es\n",
    "# etwas spannender ;)\n",
    "\n",
    "def runter_wuerfeln_c(wert : int) -> int:\n",
    "    print(\"Start: \" + str(wert))\n",
    "    zaehler = 0\n",
    "    while wert != 0:\n",
    "        eingabe = int(input())\n",
    "        if eingabe >= 1 and eingabe <=6:\n",
    "            if (wert - eingabe) < 0:\n",
    "                wert += eingabe\n",
    "            else:\n",
    "                wert -= eingabe\n",
    "            zaehler += 1\n",
    "            print(wert)\n",
    "    print(\"Gewonnen!\")\n",
    "    return zaehler\n",
    "\n",
    "#print(runter_wuerfeln_c(33))\n",
    "\n",
    "\n",
    "\n",
    "# UE_3 Fibonacci Reihe sieht folgendermaßen aus: 0 1 1 2 3 5 8 13 21 ..\n",
    "# Der nächste Wert berechnet sich als Summe der beiden vorherigen Werte.\n",
    "# Schreiben Sie eine fibonacci Funktion, die alle Werte bis zu einem\n",
    "# gewissen Grenzwert (Parameter) ausgibt.\n",
    "\n",
    "def fibonacci(bis : int):\n",
    "    z1 = 0 # annahme das ist immer die erste zahl die summiert wird\n",
    "    z2 = 1 # aname das ist immer die zweite zahl die summiert wird\n",
    "    print(z1)\n",
    "    print(z2)\n",
    "    \n",
    "    while((z1 + z2) <= bis):\n",
    "        erg = z1 + z2 # fall 1\n",
    "        print(erg) # gibt einen 1er aus\n",
    "        z1 = z2\n",
    "        z2 = erg\n",
    "\n",
    "fibonacci(21)\n",
    "        "
   ]
  },
  {
   "cell_type": "code",
   "execution_count": null,
   "metadata": {},
   "outputs": [],
   "source": []
  }
 ],
 "metadata": {
  "kernelspec": {
   "display_name": "Python 3 (ipykernel)",
   "language": "python",
   "name": "python3"
  },
  "language_info": {
   "codemirror_mode": {
    "name": "ipython",
    "version": 3
   },
   "file_extension": ".py",
   "mimetype": "text/x-python",
   "name": "python",
   "nbconvert_exporter": "python",
   "pygments_lexer": "ipython3",
   "version": "3.11.5"
  }
 },
 "nbformat": 4,
 "nbformat_minor": 4
}
