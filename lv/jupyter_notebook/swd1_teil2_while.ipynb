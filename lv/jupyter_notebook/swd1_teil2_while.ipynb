{
 "cells": [
  {
   "cell_type": "markdown",
   "metadata": {},
   "source": [
    "### Déjà-vu - Schleifen (Kontrollfluss)\n",
    "\n",
    "```python\n",
    "while <<Bedingung>>:\n",
    "\t<<Block mit Anweisungen>>\n",
    "    \n",
    "<<Anweisungen danach>>\n",
    "```\n",
    "Mit Schleifen können Programmteile mehrmals ausgeführt werden. Die Anweisungen werden so oft wiederholt bis die Bedingung *False* ist.\n",
    "\n",
    "Beispiel siehe [Python Tutor](http://pythontutor.com/visualize.html#code=hasen%20%3D%205%0Awhile%20hasen%20%3E%200%3A%0A%20%20%20%20print%28hasen%29%0A%20%20%20%20hasen%20%3D%20hasen%20-%201%0A%20%20%20%20%0Aprint%28%22Code%20danach%22%29&cumulative=false&curInstr=0&heapPrimitives=true&mode=display&origin=opt-frontend.js&py=3&rawInputLstJSON=%5B%5D&textReferences=true)\n",
    "\n",
    "Für unser erstes gemeinsames Beispiel verwenden wir zusätzlich die noch nicht bekannte Funktion *input* um Eingaben von der Tastatur zu erlauben."
   ]
  },
  {
   "cell_type": "code",
   "execution_count": 2,
   "metadata": {
    "scrolled": true
   },
   "outputs": [
    {
     "name": "stdout",
     "output_type": "stream",
     "text": [
      "10\n",
      "10\n",
      "<class 'str'>\n",
      "<class 'int'>\n",
      "10\n",
      "Hallo\n",
      "9\n",
      "Hallo\n",
      "8\n",
      "Hallo\n",
      "7\n",
      "Hallo\n",
      "6\n",
      "Hallo\n",
      "5\n",
      "Hallo\n",
      "4\n",
      "Hallo\n",
      "3\n",
      "Hallo\n",
      "2\n",
      "Hallo\n",
      "1\n",
      "Hallo\n",
      "0\n",
      "Hallo\n"
     ]
    }
   ],
   "source": [
    "x = input() # bekomme die Eingabe als String\n",
    "print(x)\n",
    "print(type(x))\n",
    "\n",
    "print(type(int(x))) # nicht sonderlich nützlich - einfach ein bsp der schachtelungsmöglichkeiten\n",
    "\n",
    "x_als_zahl = int(x)\n",
    "\n",
    "while x_als_zahl >= 0:\n",
    "    print(x_als_zahl)\n",
    "    print(\"Hallo\")\n",
    "    x_als_zahl -= 1 # x_als_zahl = x_als_zahl - 1\n"
   ]
  },
  {
   "cell_type": "markdown",
   "metadata": {},
   "source": [
    "**Achtung Endlosschleifen**: Innerhalb der Schleife müssen (üblicherweise) Anweisungen vorkommen, welche Einfluss auf Bedingungen haben."
   ]
  },
  {
   "cell_type": "code",
   "execution_count": 5,
   "metadata": {},
   "outputs": [
    {
     "name": "stdout",
     "output_type": "stream",
     "text": [
      "0\n",
      "1\n",
      "1\n",
      "2\n",
      "3\n",
      "5\n",
      "8\n",
      "13\n",
      "21\n"
     ]
    }
   ],
   "source": [
    "# Übungsbeispiele while Schleifen\n",
    "\n",
    "# UE_1 Erstellen Sie eine Funktion countdown die eine ganze Zahl als\n",
    "# Parameter erhält und am Bildschirm von der Zahl bis 0 runter zählt\n",
    "# und am Bildschirm ausgibt.\n",
    "\n",
    "def countdown(zahl: int):\n",
    "    while zahl >= 0:\n",
    "        print(zahl)\n",
    "        zahl -= 1\n",
    "        \n",
    "#x = 11\n",
    "#countdown(x)\n",
    "\n",
    "\n",
    "# UE_2 a) Erstellen Sie eine Funktion runter_wuerfeln die von einem\n",
    "# mitgegebenem ganzzahligem Wert auf 0 runter gewürfelt werden soll.\n",
    "# Zu Beginn soll \"Start: <<Wert>>\" ausgegeben werden. \n",
    "# In jeder Runde soll man über die Tastatur eingeben um welchen Wert\n",
    "# hinunter gezählt werden soll und das neue Ergebnis wird ausgegeben. \n",
    "# Nur Zahlen zwischen 1 und 6 führen zum Runterzählen. Wenn die Zahl 0\n",
    "# oder kleiner ist wird der Text Gewonnen! augegeben und die Funktion \n",
    "# beendet.\n",
    "\n",
    "def runter_wuerfeln_a(wert: int):\n",
    "    \n",
    "    print(\"Start: \" + str(wert))\n",
    "    \n",
    "    while wert > 0:\n",
    "        z = int(input()) # wir gehen davon aus dass niemand einen text eingibt sondern wirklich ganze zahl\n",
    "        # die soll zwischen 1 und 6 sein\n",
    "        if z >= 1 and z <= 6:\n",
    "            # wir wissen es ist ein gültige würfelzahl\n",
    "            wert -= z\n",
    "            print(wert)\n",
    "        \n",
    "    print(\"Gewonnen\")\n",
    "\n",
    "    \n",
    "    \n",
    "\n",
    "        \n",
    "#runter_wuerfeln_a(37)\n",
    "        \n",
    "# b) Zählen Sie mit wie oft gewürfelt wurde und liefern Sie diesen Wert\n",
    "# als Rückgabewert.\n",
    "\n",
    "\n",
    "    \n",
    "# c) Sie müssen am Ende genau 0 treffen und sonst wird der falsche Wert\n",
    "# addiert. Stellen Sie sich vor, dass sind wirklich Würfel dann wirkt es\n",
    "# etwas spannender ;)\n",
    "\n",
    "\n",
    "\n",
    "# UE_3 Fibonacci Reihe sieht folgendermaßen aus: 0 1 1 2 3 5 8 13 21 ..\n",
    "# Der nächste Wert berechnet sich als Summe der beiden vorherigen Werte.\n",
    "# Schreiben Sie eine fibonacci Funktion, die alle Werte bis zu einem\n",
    "# gewissen Grenzwert (Parameter) ausgibt.\n",
    "\n",
    "def fibonacci(bis : int):\n",
    "    z1 = 0 # annahme das ist immer die erste zahl die summiert wird\n",
    "    z2 = 1 # aname das ist immer die zweite zahl die summiert wird\n",
    "    print(z1)\n",
    "    print(z2)\n",
    "    \n",
    "    while((z1 + z2) <= bis):\n",
    "        erg = z1 + z2 # fall 1\n",
    "        print(erg) # gibt einen 1er aus\n",
    "        z1 = z2\n",
    "        z2 = erg\n",
    "\n",
    "fibonacci(21)\n",
    "        "
   ]
  },
  {
   "cell_type": "code",
   "execution_count": null,
   "metadata": {},
   "outputs": [],
   "source": []
  }
 ],
 "metadata": {
  "kernelspec": {
   "display_name": "Python 3 (ipykernel)",
   "language": "python",
   "name": "python3"
  },
  "language_info": {
   "codemirror_mode": {
    "name": "ipython",
    "version": 3
   },
   "file_extension": ".py",
   "mimetype": "text/x-python",
   "name": "python",
   "nbconvert_exporter": "python",
   "pygments_lexer": "ipython3",
   "version": "3.11.5"
  }
 },
 "nbformat": 4,
 "nbformat_minor": 4
}
