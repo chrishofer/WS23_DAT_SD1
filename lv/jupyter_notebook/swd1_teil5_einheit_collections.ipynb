{
 "cells": [
  {
   "cell_type": "markdown",
   "metadata": {},
   "source": [
    "# Listen Teil 2 und noch einige andere Kleinigkeiten\n",
    "\n",
    "Aus SEM bekannt - Wir können unsere Importe auch einen anderen Namen (alias) geben:\n",
    "\n",
    "```python\n",
    "from math import sqrt as s\n",
    "```"
   ]
  },
  {
   "cell_type": "code",
   "execution_count": 1,
   "metadata": {},
   "outputs": [
    {
     "name": "stdout",
     "output_type": "stream",
     "text": [
      "5.0\n"
     ]
    }
   ],
   "source": [
    "from math import sqrt as s\n",
    "\n",
    "# funktion auch mit dem namen s aufrufen\n",
    "print(s(25))\n",
    "\n"
   ]
  },
  {
   "cell_type": "markdown",
   "metadata": {},
   "source": [
    "Und es gibt noch ein paar weitere Convenience Details, die wir noch nicht kennengelernt haben:"
   ]
  },
  {
   "cell_type": "code",
   "execution_count": 3,
   "metadata": {},
   "outputs": [],
   "source": [
    "# hier oder in interaktiver shell können wir einfach eine kurz hilfe aufrufen\n",
    "\n",
    "import math\n",
    "\n",
    "#math?\n",
    "\n",
    "\n",
    "# einen leeren stringen können wir auch erzeugen\n",
    "x = \"\"\n",
    "y = str() # wie bei der leeren liste das list() erzeugt es unst einen leeren string\n",
    "\n",
    "y?\n"
   ]
  },
  {
   "cell_type": "markdown",
   "metadata": {},
   "source": [
    "Die besonders praktischen und schnellen f-Strings werden wir noch genauer kennenlernen:"
   ]
  },
  {
   "cell_type": "code",
   "execution_count": 9,
   "metadata": {},
   "outputs": [
    {
     "name": "stdout",
     "output_type": "stream",
     "text": [
      "Hansi 13\n",
      "Hallo Hansi\n"
     ]
    }
   ],
   "source": [
    "zahl = 13\n",
    "name = \"Hansi\"\n",
    "\n",
    "# oft möchten wir einen text zusammen bauen\n",
    "print(name + \" \" + str(zahl)) # geht nur bei gleichen datentypen\n",
    "\n",
    "# f string ist fast und komfortabel\n",
    "\n",
    "x = f'Hallo {name} - hast du schon mehr als {zahl} Schallplatten?'\n",
    "print(x)\n",
    "print(f'Hallo {name}')"
   ]
  },
  {
   "cell_type": "markdown",
   "metadata": {},
   "source": [
    "Und mit der *dir* Funktion können wir uns den Inhalt anzeigen lassen - falls die Hilfe mittels help nicht defniert ist oder zu lang ist. (Auch wieder primär interessant)\n",
    "\n",
    "Zur Wiederholung - Methoden oder Variablen die mit __ beginnen bzw. enden sind spezielle Methoden die wir überlicherweise nur selten selbst aufrufen müssen und von Python selbst aufgerufen werden. (Andere Namen dafür: **special**, **magic** oder **dunder**."
   ]
  },
  {
   "cell_type": "code",
   "execution_count": 14,
   "metadata": {},
   "outputs": [],
   "source": [
    "x = \"Hansi\"\n",
    "\n",
    "#help(str)\n",
    "#help(type(x))\n",
    "\n",
    "#dir(x) # praktisch als kurze alternative zur hilfe, oder für später bei unserne eigenen objekten um zu schauen was sie alles können"
   ]
  },
  {
   "cell_type": "markdown",
   "metadata": {},
   "source": [
    "Wir haben bereits Listen Slicing kennengelernt - Achtung - dabei wird eine neue Liste erstellt. Zusätzlich gibt es aber auch noch die Möglichkeit eines dritten Parameters (ähnlich wie bei range):"
   ]
  },
  {
   "cell_type": "code",
   "execution_count": 15,
   "metadata": {},
   "outputs": [
    {
     "name": "stdout",
     "output_type": "stream",
     "text": [
      "[7, 6, 5, 4, 3, 2, 1]\n"
     ]
    }
   ],
   "source": [
    "# im vorherinen ausprobiet - list slicing mit drei parametern\n",
    "\n",
    "liste = [1,2,3,4,5,6,7]\n",
    "\n",
    "liste_umgekehrt = liste[::-1] #umgekehrte liste erzeugen\n",
    "\n",
    "print(liste_umgekehrt)\n"
   ]
  },
  {
   "cell_type": "markdown",
   "metadata": {},
   "source": [
    "Was wir uns bis jetzt auch noch nicht angesehen haben sind wie wir unsere Liste und den Inhalt dieser korrekt annotieren, damit anderne EntwicklerInnen wissen was wir erwarten. Ohne Angabe des Inhalts könnten wir einfach nur *list* schreiben. Aber wir möchten das genauer machen - Achtung hier gibt es neue Möglichkeiten mit Python 3.9 weshalb beide Varianten kurz dargestellt werden. [Siehe auch hier](https://peps.python.org/pep-0585/)"
   ]
  },
  {
   "cell_type": "code",
   "execution_count": 19,
   "metadata": {},
   "outputs": [],
   "source": [
    "#def glueckszahl_addieren(zahl: int) -> int: # das möchten wir jetzt auch für listen machen\n",
    "\n",
    "\n",
    "def summe_liste_berechnen(l : list): # das ist der alte Weg vor Python 3.9\n",
    "    pass # wenn wir nichts tun wollen damit sich python nicht beschwert (bis wir es dann umgesetzt haben)\n",
    "\n",
    "# neue version ab 3.9\n",
    "from typing import List # Achtung L ist jetzt groß\n",
    "\n",
    "def summe_liste_ganze_zahlen(l : List[int]) -> int: # gibt liste mit int Werten an\n",
    "    pass\n",
    "\n",
    "def print_different_elements(l: List[Any]): # signalisiert, dass in der liste beliebige Objekte sein können\n",
    "    pass\n",
    "\n"
   ]
  },
  {
   "cell_type": "markdown",
   "metadata": {},
   "source": [
    "### Listen in Listen\n",
    "Listen in Python sind sehr flexibel und können selbst auch wieder Listen beinhalten und sind somit sogenannte *nested lists*. (Vergleich zweidimensionale Arrays in anderen Programmiersprachen, wobei es jedoch den Unterschied gibt, dass diese Listen nicht gleich lange sein müssen)"
   ]
  },
  {
   "cell_type": "code",
   "execution_count": 33,
   "metadata": {},
   "outputs": [
    {
     "name": "stdout",
     "output_type": "stream",
     "text": [
      "[['kw40', 20009], ['kw41', 30000], ['kw42', 50000], ['kw43', 70000]]\n",
      "['kw41', 30000]\n",
      "30000\n",
      "-----------\n",
      "Schleife 0\n",
      "kw40\n",
      "20009\n",
      "Schleife 1\n",
      "kw41\n",
      "30000\n",
      "Schleife 2\n",
      "kw42\n",
      "50000\n",
      "Schleife 3\n",
      "kw43\n",
      "70000\n",
      "***************\n",
      "Äußere Schleife 0\n",
      "[100, 200, 300]\n",
      "[300, 400, 500]\n",
      "[200, 800, 803, 4000]\n",
      "Äußere Schleife 1\n",
      "[100, 200, 300]\n",
      "[300, 400, 500]\n",
      "[200, 800, 803, 4000]\n",
      "Äußere Schleife 2\n",
      "[100, 200, 300]\n",
      "[300, 400, 500]\n",
      "[200, 800, 803, 4000]\n",
      "[122, 233, 44]\n",
      "Äußere Schleife 3\n",
      "[100, 200, 300]\n",
      "[300, 400, 500]\n",
      "[200, 800, 803, 4000]\n",
      "*******\n",
      "Äußere Schleife 0\n",
      "[100, 200]\n",
      "[300, 400]\n",
      "Äußere Schleife 1\n",
      "[100, 200]\n",
      "[300, 400]\n",
      "Äußere Schleife 2\n",
      "[100, 200]\n",
      "[300, 400]\n",
      "Äußere Schleife 3\n",
      "[100, 200]\n",
      "[300, 400]\n"
     ]
    }
   ],
   "source": [
    "from typing import List\n",
    "# iPhone Verkaufszahlen (oder Samsung oder sonstwas...)\n",
    "# listen können auch unterschiedlich lang elisten beinhalten\n",
    "# zahlen = [[\"kw40\", 20009], [\"kw41\", 30000], [3000, 1000, 10000, 30000]]\n",
    "zahlen = [[\"kw40\", 20009], [\"kw41\", 30000], [\"kw42\", 50000], [\"kw43\", 70000]]\n",
    "\n",
    "print(zahlen)\n",
    "print(zahlen[1]) # zugriff auf das zweite listenelement (wieder eine liste)\n",
    "print(zahlen[1][1]) # zugriff auf zweite listenelemnet im zweiten listenelemente\n",
    "\n",
    "# wie können wir alle elemente einzeln ausgeben? bzw. darüber iterieren?\n",
    "print(\"-----------\")\n",
    "for idx1 in range(len(zahlen)):\n",
    "    print(f'Schleife {idx1}')\n",
    "    print(zahlen[idx1][0])\n",
    "    print(zahlen[idx1][1])\n",
    "\n",
    "# in dem fall alles gelöst yayyyy, ABER...\n",
    "# neues problem\n",
    "zahlen2 = [[100, 200, 300],[300, 400, 500], [200, 800, 803, 4000], [122, 233, 44]]\n",
    "zahlen3 = [[100, 200],[300, 400], [200, 800], [122, 233]]\n",
    "\n",
    "# Mein Wunsch: Eine Funktion die alle Zahlen einzeln (nicht als Liste ausgibt) - soll mit zahlen2, zahlen3 und anderen ähnlichen listen funktionieren\n",
    "print(\"***************\")\n",
    "\n",
    "def zahlen_ausgeben(l: List[List[int]]):\n",
    "    for idx1 in range(len(l)):\n",
    "        print(f'Äußere Schleife idx1 {idx1}')\n",
    "        for idx2 in range(len(l[idx1])):\n",
    "            print(f'Innere Schleife idx2 {idx2}')\n",
    "            print(l[idx1][idx2])\n",
    "        \n",
    "        \n",
    "    \n",
    "zahlen_ausgeben(zahlen2)\n",
    "print(\"*******\")\n",
    "zahlen_ausgeben(zahlen3)\n",
    "\n",
    "\n",
    "# Übung: Summieren sie alle Werte in der nested list und liefen sie das Ergebnis zurück\n"
   ]
  },
  {
   "cell_type": "markdown",
   "metadata": {},
   "source": [
    "\n",
    "### continue und break\n",
    "Genauso wie wir Bedingungen ineinander verschalten können ist das bei Schleifen genauso möglich.\n",
    "\n",
    "Wir haben die *for* und die *while* Schleife kennengelernt: Es gibt auch noch zwei andere Wege die Schleifenwiederholungen zu unterbrechen bzw. zu überspringen.\n",
    "\n",
    "Manchmal ist eine Schleife erledigt und muss nicht mehr alle weiteren Iterationen ausführen. Mit *break* kann eine Schleife beendet werden - bitte nur verwenden wenn es wirklich notwendig ist."
   ]
  },
  {
   "cell_type": "code",
   "execution_count": null,
   "metadata": {},
   "outputs": [],
   "source": [
    "\n",
    "while True:\n",
    "    \n",
    "    \n",
    "    break # Sobald ich beim Break bin springt es raus\n"
   ]
  },
  {
   "cell_type": "markdown",
   "metadata": {},
   "source": [
    "Mit *continue* können wir eine Iteration der Schleife überspringen."
   ]
  },
  {
   "cell_type": "code",
   "execution_count": null,
   "metadata": {},
   "outputs": [],
   "source": []
  },
  {
   "cell_type": "markdown",
   "metadata": {},
   "source": [
    "### Weitere Collections\n",
    "In Folge werden wir uns noch die wichtigsten anderen eingebauten Collections ansehen. (Es git noch einige mehr - siehe collections Package)\n",
    "\n",
    "#### Set\n",
    "In einem Set können Elemente gespeichert werden, wobei jedes Element maximal nur einmal in einem Set vorkommen darf. Im Gegensatz zur Liste ist ein Set unsortiert, dass heißt die Elemente werden nicht in einer bestimmten Reihenfolge gespeichert. (Auch wenn wir Sie in einer gewissen Reihenfolge abspeichern ist uns nicht garantiert, dass wir Sie wieder in dieser Reihenfolge abfragen können.)\n",
    "\n",
    "Zum Erzeugen eines Sets verwenden wir geschwungene Klammern oder *set()* für eine leere Menge."
   ]
  },
  {
   "cell_type": "code",
   "execution_count": null,
   "metadata": {},
   "outputs": [],
   "source": []
  },
  {
   "cell_type": "markdown",
   "metadata": {},
   "source": [
    "Das set stellt eine Menge im mathematischen Sinne dar und bietet entsprechende Funktionalität - siehe *dir(set)*. Auch können manche dieser Funktionen direkt über Operatoren aufgerufen werden.\n",
    "\n",
    "* s1 - s2: difference\n",
    "* s1 & s2: intersection\n",
    "* s1 <= s2: issubset\n",
    "* s1 >= s2: issuperset\n",
    "* s1 | s2 : union\n",
    "* s1 ^ s2 : symmetric difference\n",
    "\n"
   ]
  },
  {
   "cell_type": "code",
   "execution_count": null,
   "metadata": {},
   "outputs": [],
   "source": []
  },
  {
   "cell_type": "markdown",
   "metadata": {},
   "source": [
    "Mengen können zwar verändert werden, aber Sie dürfen keine sich verändernden Werte beinhalten (Listen, Sets und andere veränderbare Collections). Als Alternative gibt es *frozensets* die sich nicht mehr verändern lassen.\n",
    "\n",
    "(Etwas konkreter: Die Typen in einem Set werden mit einem Hashwert intern gespeichert, damit die Operationen sehr schnell umgesetzt werden können - dieser Hashwert könnte sich bei veränderbaren Typen ändern.)\n",
    "\n",
    "\n",
    "#### Nächste Collection: Tuple\n",
    "Neben String und Listen gibt es auch noch Tuple als einen geordneten Typ der nach Erzeugung nicht veränderbar ist. Diese werden mit runden Klammern definiert. Die Objekte die sich darin befinden können aber verändert werden."
   ]
  },
  {
   "cell_type": "code",
   "execution_count": null,
   "metadata": {},
   "outputs": [],
   "source": []
  },
  {
   "cell_type": "markdown",
   "metadata": {},
   "source": [
    "[Schauen wir noch einmal bei PythonTutor](http://pythontutor.com/visualize.html#code=l1%20%3D%20%5B%22hi%22,%204%5D%0Al2%20%3D%20%5B%22baba%22,%2012%5D%0Ay%20%3D%20%2822,%20l1,%20l2%29%0Ay%5B1%5D%5B1%5D%20%3D%207777%0Aprint%28y%29&cumulative=false&curInstr=0&heapPrimitives=true&mode=display&origin=opt-frontend.js&py=3&rawInputLstJSON=%5B%5D&textReferences=true)\n",
    "\n",
    "One more thing: Mit Tupel können wir auch noch eine Mehrfachzuweisung machen:"
   ]
  },
  {
   "cell_type": "code",
   "execution_count": null,
   "metadata": {},
   "outputs": [],
   "source": []
  },
  {
   "cell_type": "markdown",
   "metadata": {},
   "source": [
    "#### Nächste Collection: Dictionaries\n",
    "Das dictionary (alternative Namen in anderen Sprachen: Map, Hashmap oder Hashtable) stellt eine etwas kompliziertere aber sehr praktische Collection dar. Sie ist ungeordnet und veränderbar und besteht aus **Schlüssel/Wert Paaren**. (key/value pairs) \n",
    "\n",
    "Jeder Eintrag besteht aus einem Schlüssel und einem dazu assozierten Wert. Jeder Schlüsselwert darf nur einmal vorkommen (alle Schlüssel ergeben eine Menge). Für einen Eintrag dürfen sich die die Schlüssel nicht verändern, aber die Werte schon.\n",
    "\n",
    "Diese Collection erlaubt es sehr schnell nach dem Schlüssel zu suchen und auf ein dazugehöriges Element zuzugreifen. (Ohne alle Elemente zu durchsuchen) \n",
    "\n",
    "Wann könnte soetwas Sinn machen?\n",
    "\n",
    "| **Schlüssel**             | **Wert**              |\n",
    "|---------------------------|-----------------------|\n",
    "| MitarbeiterInnen Nr       | MitarbeiterIn         |\n",
    "| PLZ                       | Ort                   |\n",
    "| Sozialversicherungsnummer | PatientInnen Akte     |\n",
    "| Vogelname                 | Anzahl der Sichtungen |\n",
    "| Kontonummer               | Konto                 |\n",
    "\n",
    "Ähnlich wie Sets verwenden wir ebenso geschwungene Klammern, aber mit Doppelpunkt um Schlüssel und Wert zu trennen:"
   ]
  },
  {
   "cell_type": "code",
   "execution_count": null,
   "metadata": {},
   "outputs": [],
   "source": []
  },
  {
   "cell_type": "markdown",
   "metadata": {},
   "source": [
    "Für diese Collections gibt es genauso Typen im *typing* Modul (alte Version bis 3.8.) bzw. können direkt verwnendet werden.\n",
    "\n",
    "#### Wann verwenden wir nun was?\n",
    "| Collection | Veränderbar | Geordnet | Anwendung                                                                                                       |\n",
    "|------------|-------------|----------|-----------------------------------------------------------------------------------------------------------------|\n",
    "| str        | Nein        | Ja       | Text speichern                                                                                                  |\n",
    "| list       | Ja          | Ja       | Geordnete Werte die veränderbar sind                                                                            |\n",
    "| tuple      | Nein        | Ja       | Geordnete Werte die nicht veränderbar sind                                                                      |\n",
    "| set        | Ja          | Nein     | Ungeordnete Werte speichern die maximal einmal vorkommen (die beinhalteten Werte dürfen nicht veränderbar sein) |\n",
    "| dict       | Ja          | Nein*    | Mapping zwischen Keys und Values (Keys dürfen nicht veränderbar sein)                                           |\n",
    "\n",
    "Ad \\*: In aktuellen Versionen liefert dictionary die Werte immer in der gleichen Reihenfolge - das war früher anders und darauf sollen wir uns nicht verlassen."
   ]
  },
  {
   "cell_type": "code",
   "execution_count": null,
   "metadata": {},
   "outputs": [],
   "source": [
    "from typing import Dict, List, Set, Tuple\n",
    "import random\n",
    "# Übungsbeispiele\n",
    "\n",
    "# UE_1 Die Funktion hauptdiagonale soll die Summe aller Elemente auf der Hauptdiagonale einer zweidimensionalen Liste \n",
    "# (Liste mit Listen gleicher Länge als Inhalt, mathematisch auch (quadratische) Matrix genannt) berechnen. Die Funktion bekommt diese\n",
    "# Matrix mit int Werten als Parameter und liefert die Summe als Ergebnis.\n",
    "# Annahme: Zeilen und Spaltenanzahl ist gleich -> quadratische Matrix\n",
    "# Beispiel Größe 4: l = [[],[],[],[]] grafisch aufbereitet\n",
    "# \n",
    "#     1    2    3    4    dann sind die Elemente       X    2    3    4\n",
    "#     5    6    7    8    auf der Hauptdiagonale       5    X    7    8\n",
    "#     9    1    2    3    mit X markiert               9    1    X    3\n",
    "#     4    5    6    7                                 4    5    6    X\n",
    "#\n",
    "\n",
    "\n",
    "\n",
    "#l = [[1, 2, 3, 4],[5, 6, 7, 8],[9, 1, 2, 3],[4, 5, 6, 7]]\n",
    "\n",
    "# UE_2 Die Funktion verkaufte_smartphones erhält eine Liste mit den Namen der verkauften Smartphones. Die Funktion\n",
    "# soll ein dictionary zurückliefern, das uns anzeigt wie oft welches Gerät verkauft wurde. Als Schlüssel soll der Name des\n",
    "# Smartphones dienen und der dazugehörige Wert soll die Anzahl der verkaufen Einheiten sein.\n",
    "# Bsp: {\"iphone 11\": 12, \"galaxy note 20\": 33, \"pixel 4\": 4}\n",
    "\n",
    "\n",
    "\n",
    "#verkauft = [\"iphone 13\", \"iphone 12\", \"iphone 12\", \"iphone 15\", \"iphone 15\", \"pixel 8\", \"pixel 7\"]\n",
    "#print(verkaufte_smartphones(verkauft))\n",
    "\n",
    "\n",
    "# UE_3 Die Funktion mittelwerte erhält als Parameter eine Liste die wieder Listen enthält. Jeder dieser Teillisten enthält\n",
    "# float Werte. Für jede dieser Teillisten soll der Mittelwert berechnet werden und in einer neuen Liste gespeichert und als\n",
    "# Rückgabewert zurückgeliefert werden. \n",
    "# Den arithmetische Mittelwert erhält man wenn man die aufsummierten Listenwerte durch\n",
    "# die Anzahl dividiert.\n",
    "\n",
    "#l2 = [[1, 2, 3],[5, 6, 7],[10, 15, 20],[1000, 2000]]\n",
    "\n",
    "\n",
    "\n",
    "\n",
    "# UE_4 Erstellen Sie eine Funktion lucky_looser die zwei Listen mit Namen als Parameter erhält.\n",
    "# In der ersten Liste sind all jene Personen die im ersten Gewinnspiel nichts gewonnen haben und\n",
    "# in der zweiten Liste all jene Namen die beim zweiten Gewinnspiel nichts gewonnen haben.\n",
    "# Die Funktion soll jetzt drei \"Lucky Looser\" auswählen die weder im ersten noch im zweiten Gewinnspiel\n",
    "# gewonnen haben und diese auf einer Liste als Rückgabewert liefern.\n",
    "# Hinweis: Welche Collection macht Sinn? Sie können diese konvertieren...\n",
    "# Hinweis2 : Verwenden Sie random.choice\n",
    "# Hinweis3: Keine Fehlerbehandlung notwendig - bereiten Sie Listen vor die zumindest 3 Lucky Looser haben\n",
    "# Erweiterungsmöglichkeit: Auch Listen mit weniger Lucky Looser funktionieren\n",
    "# Erweiterungsmöglihckeit2: Zusätzlicher Parameter gigbt die Anzahl der Lucky Looser an\n",
    "\n",
    "\n",
    "\n",
    "#l1 = [\"A\", \"B\", \"C\", \"D\", \"E\"]\n",
    "#l2 = [\"C\", \"D\", \"E\", \"F\"]\n",
    "#print(lucky_looser(l1, l2, 3))\n"
   ]
  }
 ],
 "metadata": {
  "kernelspec": {
   "display_name": "Python 3 (ipykernel)",
   "language": "python",
   "name": "python3"
  },
  "language_info": {
   "codemirror_mode": {
    "name": "ipython",
    "version": 3
   },
   "file_extension": ".py",
   "mimetype": "text/x-python",
   "name": "python",
   "nbconvert_exporter": "python",
   "pygments_lexer": "ipython3",
   "version": "3.11.5"
  }
 },
 "nbformat": 4,
 "nbformat_minor": 4
}
